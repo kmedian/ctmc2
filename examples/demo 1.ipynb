{
 "cells": [
  {
   "cell_type": "code",
   "execution_count": 1,
   "metadata": {},
   "outputs": [],
   "source": [
    "import sys\n",
    "sys.path.append('..')"
   ]
  },
  {
   "cell_type": "code",
   "execution_count": 2,
   "metadata": {},
   "outputs": [],
   "source": [
    "import numpy as np\n",
    "paneldata = np.loadtxt('../data/demo1.csv', delimiter=',', skiprows=1, dtype=object)"
   ]
  },
  {
   "cell_type": "code",
   "execution_count": 3,
   "metadata": {},
   "outputs": [],
   "source": [
    "mapping = [['AAA'],\n",
    "           ['AA+', 'AA', 'AA-'],\n",
    "           ['A+', 'A', 'A-'], \n",
    "           ['BBB+', 'BBB', 'BBB-'],\n",
    "           ['BB+', 'BB', 'BB-'], \n",
    "           ['B+', 'B', 'B-']]"
   ]
  },
  {
   "cell_type": "code",
   "execution_count": 4,
   "metadata": {},
   "outputs": [
    {
     "name": "stderr",
     "output_type": "stream",
     "text": [
      "../ctmc2/aggregateevents.py:26: UserWarning: The example id=40 has a state that have not been active for longer than toltime.\n",
      "  \"toltime.\").format(exid))\n"
     ]
    }
   ],
   "source": [
    "from grouplabelencode import grouplabelencode\n",
    "from datetime import datetime\n",
    "from panelctmc import panel_to_datalist\n",
    "from ctmc2 import ctmc\n",
    "\n",
    "def fun(paneldata, mapping):\n",
    "    paneldata[:, 1] = [datetime.strptime(p, \"%Y-%m-%d\") for p in paneldata[:, 1]]\n",
    "    paneldata[:, 2] = grouplabelencode(paneldata[:, 2], mapping, nastate=True)\n",
    "    datalist = panel_to_datalist(paneldata, lastdate=None)\n",
    "    return ctmc(datalist, len(mapping) + 1, 1.0, toltime=1e-8)\n",
    "\n",
    "transmat, genmat, transcount, statetime = fun(paneldata, mapping)"
   ]
  },
  {
   "cell_type": "code",
   "execution_count": 5,
   "metadata": {},
   "outputs": [
    {
     "name": "stdout",
     "output_type": "stream",
     "text": [
      "Num Transitions: 163\n",
      "[ 70.1 172.1 152.8 194.6 182.8 152.8  59.5]\n"
     ]
    },
    {
     "data": {
      "text/plain": [
       "array([[0.959, 0.04 , 0.001, 0.   , 0.   , 0.   , 0.   ],\n",
       "       [0.043, 0.897, 0.057, 0.003, 0.   , 0.   , 0.   ],\n",
       "       [0.001, 0.029, 0.887, 0.08 , 0.003, 0.   , 0.   ],\n",
       "       [0.   , 0.001, 0.063, 0.864, 0.064, 0.007, 0.   ],\n",
       "       [0.   , 0.   , 0.004, 0.109, 0.804, 0.078, 0.005],\n",
       "       [0.   , 0.   , 0.   , 0.007, 0.104, 0.794, 0.095],\n",
       "       [0.   , 0.   , 0.   , 0.   , 0.011, 0.162, 0.827]])"
      ]
     },
     "execution_count": 5,
     "metadata": {},
     "output_type": "execute_result"
    }
   ],
   "source": [
    "#print(\"Num Examples: {:d}\".format(len(datalist)))\n",
    "print(\"Num Transitions: {:d}\".format(transcount.sum()))\n",
    "print(statetime.round(1))\n",
    "transmat.round(3)"
   ]
  },
  {
   "cell_type": "markdown",
   "metadata": {},
   "source": [
    "test data"
   ]
  }
 ],
 "metadata": {
  "kernelspec": {
   "display_name": "Python 3",
   "language": "python",
   "name": "python3"
  },
  "language_info": {
   "codemirror_mode": {
    "name": "ipython",
    "version": 3
   },
   "file_extension": ".py",
   "mimetype": "text/x-python",
   "name": "python",
   "nbconvert_exporter": "python",
   "pygments_lexer": "ipython3",
   "version": "3.6.2"
  }
 },
 "nbformat": 4,
 "nbformat_minor": 2
}
