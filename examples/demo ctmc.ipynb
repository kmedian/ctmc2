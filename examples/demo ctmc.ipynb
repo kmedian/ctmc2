{
 "cells": [
  {
   "cell_type": "code",
   "execution_count": 1,
   "metadata": {},
   "outputs": [],
   "source": [
    "import pickle\n",
    "\n",
    "import pprint\n",
    "pp = pprint.PrettyPrinter(indent=4)\n",
    "\n",
    "import sys\n",
    "sys.path.append('..')\n",
    "import ctmc2"
   ]
  },
  {
   "cell_type": "markdown",
   "metadata": {},
   "source": [
    "## Load Demo Dataset"
   ]
  },
  {
   "cell_type": "code",
   "execution_count": 2,
   "metadata": {},
   "outputs": [],
   "source": [
    "with open(\"../data/example.pkl\", \"rb\") as f:\n",
    "    datalist = pickle.load(f)\n",
    "\n",
    "numstates = 9"
   ]
  },
  {
   "cell_type": "markdown",
   "metadata": {},
   "source": [
    "## Estimate Markov Model"
   ]
  },
  {
   "cell_type": "code",
   "execution_count": 3,
   "metadata": {},
   "outputs": [
    {
     "name": "stderr",
     "output_type": "stream",
     "text": [
      "../ctmc2/aggregateevents.py:26: UserWarning: The example id=40 has a state that have not been active for longer than toltime.\n",
      "  \"toltime.\").format(exid))\n"
     ]
    }
   ],
   "source": [
    "try:\n",
    "    transmat, genmat, transcount, statetime = ctmc2.ctmc(\n",
    "        datalist, numstates, 1.0, toltime=1e-8)\n",
    "except Exception as e:\n",
    "    print(e)"
   ]
  },
  {
   "cell_type": "code",
   "execution_count": 4,
   "metadata": {},
   "outputs": [
    {
     "data": {
      "text/plain": [
       "array([[0.959, 0.04 , 0.001, 0.   , 0.   , 0.   , 0.   , 0.   , 0.   ],\n",
       "       [0.043, 0.897, 0.057, 0.003, 0.   , 0.   , 0.   , 0.   , 0.   ],\n",
       "       [0.001, 0.029, 0.887, 0.08 , 0.003, 0.   , 0.   , 0.   , 0.   ],\n",
       "       [0.   , 0.001, 0.063, 0.864, 0.064, 0.007, 0.   , 0.   , 0.   ],\n",
       "       [0.   , 0.   , 0.004, 0.109, 0.804, 0.078, 0.003, 0.   , 0.002],\n",
       "       [0.   , 0.   , 0.   , 0.007, 0.104, 0.794, 0.051, 0.008, 0.037],\n",
       "       [0.   , 0.   , 0.   , 0.001, 0.014, 0.213, 0.527, 0.172, 0.073],\n",
       "       [0.   , 0.   , 0.   , 0.001, 0.027, 0.381, 0.064, 0.516, 0.012],\n",
       "       [0.   , 0.   , 0.   , 0.   , 0.002, 0.031, 0.001, 0.   , 0.966]])"
      ]
     },
     "execution_count": 4,
     "metadata": {},
     "output_type": "execute_result"
    }
   ],
   "source": [
    "transmat.round(3)"
   ]
  }
 ],
 "metadata": {
  "kernelspec": {
   "display_name": "Python 3",
   "language": "python",
   "name": "python3"
  },
  "language_info": {
   "codemirror_mode": {
    "name": "ipython",
    "version": 3
   },
   "file_extension": ".py",
   "mimetype": "text/x-python",
   "name": "python",
   "nbconvert_exporter": "python",
   "pygments_lexer": "ipython3",
   "version": "3.6.2"
  }
 },
 "nbformat": 4,
 "nbformat_minor": 2
}
