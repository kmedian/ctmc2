{
 "cells": [
  {
   "cell_type": "markdown",
   "metadata": {},
   "source": [
    "# Line by Line Execution Time"
   ]
  },
  {
   "cell_type": "code",
   "execution_count": 1,
   "metadata": {},
   "outputs": [],
   "source": [
    "import pickle\n",
    "import sys\n",
    "sys.path.append('..')\n",
    "import ctmc2"
   ]
  },
  {
   "cell_type": "code",
   "execution_count": 2,
   "metadata": {},
   "outputs": [],
   "source": [
    "with open(\"../data/example.pkl\", \"rb\") as f:\n",
    "    datalist = pickle.load(f)\n",
    "numstates = 9"
   ]
  },
  {
   "cell_type": "code",
   "execution_count": 3,
   "metadata": {},
   "outputs": [],
   "source": [
    "%load_ext line_profiler"
   ]
  },
  {
   "cell_type": "markdown",
   "metadata": {},
   "source": [
    "## ctmc.ctmc"
   ]
  },
  {
   "cell_type": "code",
   "execution_count": 4,
   "metadata": {},
   "outputs": [
    {
     "name": "stderr",
     "output_type": "stream",
     "text": [
      "../ctmc2/aggregateevents.py:26: UserWarning: The example id=40 has a state that have not been active for longer than toltime.\n",
      "  \"toltime.\").format(exid))\n"
     ]
    },
    {
     "data": {
      "text/plain": [
       "Timer unit: 1e-06 s\n",
       "\n",
       "Total time: 0.135206 s\n",
       "File: ../ctmc2/ctmc_func.py\n",
       "Function: ctmc at line 7\n",
       "\n",
       "Line #      Hits         Time  Per Hit   % Time  Line Contents\n",
       "==============================================================\n",
       "     7                                           def ctmc(data, numstates, transintv=1.0, toltime=1e-8):\n",
       "     8                                               \"\"\" Continous Time Markov Chain (with automatic error correction)\"\"\"\n",
       "     9         1      21246.0  21246.0     15.7      transcount, statetime = aggregateevents(data, numstates, toltime)\n",
       "    10         1        800.0    800.0      0.6      genmat = generatormatrix(transcount, statetime, toltime)\n",
       "    11         1     113158.0 113158.0     83.7      transmat = scipy.linalg.expm(genmat * transintv)\n",
       "    12         1          2.0      2.0      0.0      return transmat, genmat, transcount, statetime"
      ]
     },
     "metadata": {},
     "output_type": "display_data"
    }
   ],
   "source": [
    "%lprun -f ctmc2.ctmc ctmc2.ctmc(datalist, numstates, 1.0)"
   ]
  },
  {
   "cell_type": "markdown",
   "metadata": {},
   "source": [
    "## ctmc.aggregateevents"
   ]
  },
  {
   "cell_type": "code",
   "execution_count": 5,
   "metadata": {},
   "outputs": [
    {
     "name": "stderr",
     "output_type": "stream",
     "text": [
      "../ctmc2/aggregateevents.py:26: UserWarning: The example id=40 has a state that have not been active for longer than toltime.\n",
      "  \"toltime.\").format(exid))\n"
     ]
    },
    {
     "data": {
      "text/plain": [
       "Timer unit: 1e-06 s\n",
       "\n",
       "Total time: 0.022531 s\n",
       "File: ../ctmc2/aggregateevents.py\n",
       "Function: aggregateevents at line 7\n",
       "\n",
       "Line #      Hits         Time  Per Hit   % Time  Line Contents\n",
       "==============================================================\n",
       "     7                                           def aggregateevents(data, numstates, toltime=1e-8):\n",
       "     8         1        139.0    139.0      0.6      transcount = scipy.sparse.lil_matrix((numstates, numstates), dtype=int)\n",
       "     9         1          5.0      5.0      0.0      statetime = np.zeros(numstates, dtype=float)\n",
       "    10                                           \n",
       "    11        72        489.0      6.8      2.2      for exid, example in enumerate(data):\n",
       "    12        71        117.0      1.6      0.5          states = example[0]\n",
       "    13        71        103.0      1.5      0.5          times = example[1]\n",
       "    14                                           \n",
       "    15        71       8803.0    124.0     39.1          if len(np.unique(states)) < 2:\n",
       "    16                                                       warnings.warn(\n",
       "    17                                                           (\"The example id={:d} has only 1 or no distinct \"\n",
       "    18                                                            \"state and will be ignored. Please remove incomplete \"\n",
       "    19                                                            \"examples from the dataset\").format(exid))\n",
       "    20                                                   else:\n",
       "    21       316        813.0      2.6      3.6              for i, s in enumerate(states):\n",
       "    22       245        569.0      2.3      2.5                  if times[i] < toltime:\n",
       "    23         1          3.0      3.0      0.0                      warnings.warn(\n",
       "    24         1          2.0      2.0      0.0                          (\"The example id={:d} has a state that \"\n",
       "    25                                                                    \"have not been active for longer than \"\n",
       "    26         1        674.0    674.0      3.0                           \"toltime.\").format(exid))\n",
       "    27                                                           else:\n",
       "    28       244        769.0      3.2      3.4                      statetime[s] += times[i]\n",
       "    29       244        371.0      1.5      1.6                      if i:\n",
       "    30       173        336.0      1.9      1.5                          if states[i-1] == s:\n",
       "    31                                                                       warnings.warn(\n",
       "    32                                                                           (\"The example id={:d} contains two entries \"\n",
       "    33                                                                            \"for the same state in a row. Please  \"\n",
       "    34                                                                            \"aggregate these obs.\").format(exid))\n",
       "    35                                                                   else:\n",
       "    36       173       9284.0     53.7     41.2                              transcount[states[i-1], s] += 1\n",
       "    37                                           \n",
       "    38         1         54.0     54.0      0.2      return transcount.toarray(), statetime"
      ]
     },
     "metadata": {},
     "output_type": "display_data"
    }
   ],
   "source": [
    "%lprun -f ctmc2.aggregateevents ctmc2.ctmc(datalist, numstates, 1.0)"
   ]
  },
  {
   "cell_type": "code",
   "execution_count": null,
   "metadata": {},
   "outputs": [],
   "source": []
  }
 ],
 "metadata": {
  "kernelspec": {
   "display_name": "Python 3",
   "language": "python",
   "name": "python3"
  },
  "language_info": {
   "codemirror_mode": {
    "name": "ipython",
    "version": 3
   },
   "file_extension": ".py",
   "mimetype": "text/x-python",
   "name": "python",
   "nbconvert_exporter": "python",
   "pygments_lexer": "ipython3",
   "version": "3.6.2"
  }
 },
 "nbformat": 4,
 "nbformat_minor": 2
}
