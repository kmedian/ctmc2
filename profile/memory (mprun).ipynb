{
 "cells": [
  {
   "cell_type": "markdown",
   "metadata": {},
   "source": [
    "# Memory Profile"
   ]
  },
  {
   "cell_type": "code",
   "execution_count": 1,
   "metadata": {},
   "outputs": [],
   "source": [
    "import pickle\n",
    "import sys\n",
    "sys.path.append('..')\n",
    "import ctmc2"
   ]
  },
  {
   "cell_type": "code",
   "execution_count": 2,
   "metadata": {},
   "outputs": [],
   "source": [
    "with open(\"../data/example.pkl\", \"rb\") as f:\n",
    "    datalist = pickle.load(f)\n",
    "numstates = 9"
   ]
  },
  {
   "cell_type": "code",
   "execution_count": 3,
   "metadata": {},
   "outputs": [],
   "source": [
    "%load_ext memory_profiler"
   ]
  },
  {
   "cell_type": "code",
   "execution_count": 4,
   "metadata": {},
   "outputs": [
    {
     "name": "stderr",
     "output_type": "stream",
     "text": [
      "../ctmc2/aggregateevents.py:26: UserWarning: The example id=40 has a state that have not been active for longer than toltime.\n",
      "  \"toltime.\").format(exid))\n",
      "../ctmc2/aggregateevents.py:26: UserWarning: The example id=40 has a state that have not been active for longer than toltime.\n",
      "  \"toltime.\").format(exid))\n"
     ]
    },
    {
     "name": "stdout",
     "output_type": "stream",
     "text": [
      "peak memory: 52.32 MiB, increment: 2.01 MiB\n"
     ]
    }
   ],
   "source": [
    "%memit ctmc2.ctmc(datalist, numstates, 1.0)"
   ]
  },
  {
   "cell_type": "markdown",
   "metadata": {},
   "source": [
    "## ctmc.ctmc"
   ]
  },
  {
   "cell_type": "code",
   "execution_count": 5,
   "metadata": {},
   "outputs": [
    {
     "name": "stdout",
     "output_type": "stream",
     "text": [
      "\n"
     ]
    },
    {
     "name": "stderr",
     "output_type": "stream",
     "text": [
      "../ctmc2/aggregateevents.py:26: UserWarning: The example id=40 has a state that have not been active for longer than toltime.\n",
      "  \"toltime.\").format(exid))\n"
     ]
    },
    {
     "data": {
      "text/plain": [
       "Filename: ../ctmc2/ctmc_func.py\n",
       "\n",
       "Line #    Mem usage    Increment   Line Contents\n",
       "================================================\n",
       "     7     52.5 MiB     52.5 MiB   def ctmc(data, numstates, transintv=1.0, toltime=1e-8):\n",
       "     8                                 \"\"\" Continous Time Markov Chain (with automatic error correction)\"\"\"\n",
       "     9     52.5 MiB      0.0 MiB       transcount, statetime = aggregateevents(data, numstates, toltime)\n",
       "    10     52.5 MiB      0.0 MiB       genmat = generatormatrix(transcount, statetime, toltime)\n",
       "    11     52.6 MiB      0.0 MiB       transmat = scipy.linalg.expm(genmat * transintv)\n",
       "    12     52.6 MiB      0.0 MiB       return transmat, genmat, transcount, statetime"
      ]
     },
     "metadata": {},
     "output_type": "display_data"
    }
   ],
   "source": [
    "%mprun -f ctmc2.ctmc ctmc2.ctmc(datalist, numstates, 1.0)"
   ]
  },
  {
   "cell_type": "markdown",
   "metadata": {},
   "source": [
    "## ctmc.aggregateevents"
   ]
  },
  {
   "cell_type": "code",
   "execution_count": 6,
   "metadata": {},
   "outputs": [
    {
     "name": "stdout",
     "output_type": "stream",
     "text": [
      "\n"
     ]
    },
    {
     "name": "stderr",
     "output_type": "stream",
     "text": [
      "../ctmc2/aggregateevents.py:26: UserWarning: The example id=40 has a state that have not been active for longer than toltime.\n",
      "  \"toltime.\").format(exid))\n"
     ]
    },
    {
     "data": {
      "text/plain": [
       "Filename: ../ctmc2/aggregateevents.py\n",
       "\n",
       "Line #    Mem usage    Increment   Line Contents\n",
       "================================================\n",
       "     7     52.6 MiB     52.6 MiB   def aggregateevents(data, numstates, toltime=1e-8):\n",
       "     8     52.6 MiB      0.0 MiB       transcount = scipy.sparse.lil_matrix((numstates, numstates), dtype=int)\n",
       "     9     52.6 MiB      0.0 MiB       statetime = np.zeros(numstates, dtype=float)\n",
       "    10                             \n",
       "    11     52.6 MiB      0.0 MiB       for exid, example in enumerate(data):\n",
       "    12     52.6 MiB      0.0 MiB           states = example[0]\n",
       "    13     52.6 MiB      0.0 MiB           times = example[1]\n",
       "    14                             \n",
       "    15     52.6 MiB      0.0 MiB           if len(np.unique(states)) < 2:\n",
       "    16                                         warnings.warn(\n",
       "    17                                             (\"The example id={:d} has only 1 or no distinct \"\n",
       "    18                                              \"state and will be ignored. Please remove incomplete \"\n",
       "    19                                              \"examples from the dataset\").format(exid))\n",
       "    20                                     else:\n",
       "    21     52.6 MiB      0.0 MiB               for i, s in enumerate(states):\n",
       "    22     52.6 MiB      0.0 MiB                   if times[i] < toltime:\n",
       "    23     52.6 MiB      0.0 MiB                       warnings.warn(\n",
       "    24     52.6 MiB      0.0 MiB                           (\"The example id={:d} has a state that \"\n",
       "    25                                                      \"have not been active for longer than \"\n",
       "    26     52.6 MiB      0.0 MiB                            \"toltime.\").format(exid))\n",
       "    27                                             else:\n",
       "    28     52.6 MiB      0.0 MiB                       statetime[s] += times[i]\n",
       "    29     52.6 MiB      0.0 MiB                       if i:\n",
       "    30     52.6 MiB      0.0 MiB                           if states[i-1] == s:\n",
       "    31                                                         warnings.warn(\n",
       "    32                                                             (\"The example id={:d} contains two entries \"\n",
       "    33                                                              \"for the same state in a row. Please  \"\n",
       "    34                                                              \"aggregate these obs.\").format(exid))\n",
       "    35                                                     else:\n",
       "    36     52.6 MiB      0.0 MiB                               transcount[states[i-1], s] += 1\n",
       "    37                             \n",
       "    38     52.6 MiB      0.0 MiB       return transcount.toarray(), statetime"
      ]
     },
     "metadata": {},
     "output_type": "display_data"
    }
   ],
   "source": [
    "%mprun -f ctmc2.aggregateevents ctmc2.ctmc(datalist, numstates, 1.0)"
   ]
  }
 ],
 "metadata": {
  "kernelspec": {
   "display_name": "Python 3",
   "language": "python",
   "name": "python3"
  },
  "language_info": {
   "codemirror_mode": {
    "name": "ipython",
    "version": 3
   },
   "file_extension": ".py",
   "mimetype": "text/x-python",
   "name": "python",
   "nbconvert_exporter": "python",
   "pygments_lexer": "ipython3",
   "version": "3.6.2"
  }
 },
 "nbformat": 4,
 "nbformat_minor": 2
}
